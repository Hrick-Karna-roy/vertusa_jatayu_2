{
 "cells": [
  {
   "cell_type": "code",
   "execution_count": 26,
   "id": "7bacc5a4",
   "metadata": {},
   "outputs": [
    {
     "data": {
      "text/plain": [
       "array([497968551,         0, 400263525,         0, 566350038,         0,\n",
       "       206803972,         0, 648646614,         0, 809172683,         0,\n",
       "               0, 588379875,         0, 502031651,         0,         0,\n",
       "       537913794, 158303686, 600054827, 582001100,         0,         0,\n",
       "       403977398, 276109703, 770198276, 465784418,         0,         0,\n",
       "       884124893, 541474470, 570995746,         0,         0, 212639464,\n",
       "               0, 100429027, 485523611, 556107699,         0,         0,\n",
       "       700082184,         0,         0,         0, 743162242, 726491472,\n",
       "       685666364,         0, 493075021, 488784604, 700864705, 304076737,\n",
       "       240789310, 832299941, 814982722,         0, 365526082,   4482628,\n",
       "               0, 442583869, 636656387, 675493162, 736824569, 564169896,\n",
       "       610953971, 856962612,         0,         0, 541608236, 384254924,\n",
       "       254628861, 429442463,         0, 360032261,         0, 136477231,\n",
       "               0,         0,         0,         0,         0,         0,\n",
       "               0,         0,         0,         0, 423549918,         0,\n",
       "               0, 502602323, 699936363, 519930905, 472849573, 458832009,\n",
       "       518087966,         0, 381346123,         0])"
      ]
     },
     "execution_count": 26,
     "metadata": {},
     "output_type": "execute_result"
    }
   ],
   "source": [
    "import numpy as np\n",
    "import pandas as pd\n",
    "# import matplotlib as mpl\n",
    "# import seaborn as sbs\n",
    "\n",
    "y = np.random.randint(1,5,5)\n",
    "y\n",
    "coloumn = ['sl_no','acount_no','pin','ifsc','address','plot_no','pan_no','vter_no','school','college','stream','medical history','dob','profession','contact no','adiction']\n",
    "len(coloumn)\n",
    "sl_no = np.linspace(1,100,100,np.int64)\n",
    "acount_no = np.random.normal(500000000,200000000,100)\n",
    "acount_no = np.int64(acount_no)\n",
    "a = np.random.randint(1,100,55)\n",
    "a\n",
    "for i in a:\n",
    "    acount_no[i] = 000000000\n",
    "acount_no\n",
    "\n"
   ]
  },
  {
   "cell_type": "code",
   "execution_count": 25,
   "id": "7bc5464d",
   "metadata": {},
   "outputs": [
    {
     "data": {
      "text/plain": [
       "array([3514, 3320, 6187,    0, 3523,    0,    0,    0,    0, 6046, 3172,\n",
       "       1677,    0, 7404, 6783, 2810, 4726, 4598, 5059, 4031, 5850,    0,\n",
       "       5354, 2342, 7355,    0,    0, 8423,    0, 3904, 5023,    0,    0,\n",
       "          0, 4683,    0,    0,    0,    0, 5652,    0, 2363, 7373, 6242,\n",
       "          0,    0,    0, 2817, 4128, 4785,    0,    0,    0,    0, 3279,\n",
       "          0,    0, 2720, 2910, 4682,    0,    0, 4126, 7503, 4506, 6277,\n",
       "          0, 6652, 3983, 3421, 5378,    0, 2223, 5099, 5059,    0,    0,\n",
       "       3728, 4374, 5163,    0,    0,    0,    0, 2393,    0,    0, 7763,\n",
       "       4037, 6650,  374,    0, 3413, 2751,    0,    0,    0, 5753,    0,\n",
       "          0])"
      ]
     },
     "execution_count": 25,
     "metadata": {},
     "output_type": "execute_result"
    }
   ],
   "source": [
    "pin = np.random.normal(5000,2000,100)\n",
    "pin = np.int64(pin)\n",
    "b = np.random.randint(1,100,86)\n",
    "b\n",
    "for i in b:\n",
    "    pin[i] = 000000000\n",
    "pin"
   ]
  },
  {
   "cell_type": "code",
   "execution_count": 53,
   "id": "2440c9eb",
   "metadata": {},
   "outputs": [
    {
     "data": {
      "text/plain": [
       "array([     0, 660120,      0, 198615,      0,      0,      0,      0,\n",
       "            0,      0, 215861, 636805,      0, 157510,      0,      0,\n",
       "       897448,  19442,      0,      0, 421726,      0,      0,      0,\n",
       "            0, 198615, 944560,      0, 198615,      0,      0, 157510,\n",
       "       664218,      0,      0, 153639,      0, 897448,      0,      0,\n",
       "       188457,      0,      0, 157510, 157510,      0, 944560, 260244,\n",
       "            0,      0, 260244,      0,      0,      0,      0,      0,\n",
       "       250483,      0,      0,      0,      0,      0,      0, 421726,\n",
       "            0, 215861,      0,      0, 250483, 188457,      0, 664218,\n",
       "            0,      0,      0, 221634,      0,      0,      0,      0,\n",
       "            0,  19442, 421726,      0,      0,      0, 215861, 221634,\n",
       "            0,      0,      0,      0,      0,      0,      0,      0,\n",
       "            0,      0,      0,      0])"
      ]
     },
     "execution_count": 53,
     "metadata": {},
     "output_type": "execute_result"
    }
   ],
   "source": [
    "rifsc = np.random.randint(000000,999999,20)\n",
    "ifsc = np.zeros(100,np.int64)\n",
    "ifsc\n",
    "c = np.random.randint(1,100,40)\n",
    "for i in c:\n",
    "    if i>19:\n",
    "        j = np.random.randint(0,20)\n",
    "    else:\n",
    "        j = i\n",
    "    ifsc[i] = rifsc[j]\n",
    "ifsc"
   ]
  },
  {
   "cell_type": "code",
   "execution_count": 38,
   "id": "0c3e03bb",
   "metadata": {},
   "outputs": [],
   "source": [
    "acount_no = pd.Series(acount_no)\n",
    "pin = pd.Series(pin)\n",
    "frame = {'acount_no':acount_no,'pin':pin,'ifsc':ifsc}\n",
    "data = pd.DataFrame(frame)\n",
    "data\n",
    "data.to_excel(\"sample_data.xlsx\")"
   ]
  },
  {
   "cell_type": "code",
   "execution_count": 76,
   "id": "a11ef684",
   "metadata": {},
   "outputs": [
    {
     "data": {
      "text/plain": [
       "{'1': 'west',\n",
       " '2': 'south',\n",
       " '3': 'north',\n",
       " '4': 'east',\n",
       " '5': 'north_east',\n",
       " '6': 'north_west',\n",
       " '7': 'south_east',\n",
       " '8': 'south_west'}"
      ]
     },
     "execution_count": 76,
     "metadata": {},
     "output_type": "execute_result"
    }
   ],
   "source": [
    "address = {'1':'west','2':'south','3':'north','4':'east','5':'north_east','6':'north_west','7':'south_east','8':'south_west'}\n",
    "address"
   ]
  },
  {
   "cell_type": "code",
   "execution_count": 77,
   "id": "1d8745d8",
   "metadata": {},
   "outputs": [
    {
     "data": {
      "text/plain": [
       "array([4, 4, 2, 3, 4, 3, 1, 2])"
      ]
     },
     "execution_count": 77,
     "metadata": {},
     "output_type": "execute_result"
    }
   ],
   "source": [
    "addresss = np.random.normal(4.5,1.5,8)\n",
    "addresss = np.int64(addresss)\n",
    "addresss\n"
   ]
  },
  {
   "cell_type": "code",
   "execution_count": 78,
   "id": "dbc9119b",
   "metadata": {},
   "outputs": [
    {
     "data": {
      "text/plain": [
       "array([0, 4, 0, 0, 0, 3, 0, 0, 0, 4, 2, 0, 1, 2, 3, 3, 4, 0, 0, 4, 0, 0,\n",
       "       3, 3, 0, 0, 0, 0, 0, 0, 0, 4, 2, 1, 1, 4, 0, 0, 0, 3, 0, 0, 3, 0,\n",
       "       0, 0, 0, 0, 1, 0, 0, 0, 3, 0, 1, 0, 3, 3, 3, 4, 3, 0, 3, 1, 2, 0,\n",
       "       4, 0, 4, 2, 0, 0, 3, 4, 0, 0, 4, 0, 0, 2, 4, 0, 0, 3, 4, 1, 0, 3,\n",
       "       4, 0, 2, 0, 3, 3, 4, 4, 1, 4, 4, 0])"
      ]
     },
     "execution_count": 78,
     "metadata": {},
     "output_type": "execute_result"
    }
   ],
   "source": [
    "ad = np.zeros(100,np.int64)\n",
    "ad\n",
    "no = 75\n",
    "i = 0\n",
    "while i<no:\n",
    "    ad[np.random.randint(0,99)] = addresss[np.random.randint(0,7)]\n",
    "    i+=1\n",
    "ad"
   ]
  },
  {
   "cell_type": "code",
   "execution_count": 92,
   "id": "13dd6529",
   "metadata": {},
   "outputs": [
    {
     "data": {
      "text/plain": [
       "0        0\n",
       "1     east\n",
       "2        0\n",
       "3        0\n",
       "4        0\n",
       "      ... \n",
       "95    east\n",
       "96    west\n",
       "97    east\n",
       "98    east\n",
       "99       0\n",
       "Length: 100, dtype: object"
      ]
     },
     "execution_count": 92,
     "metadata": {},
     "output_type": "execute_result"
    }
   ],
   "source": [
    "l = []\n",
    "for i in ad:\n",
    "    if i == 0:\n",
    "        l.append(0)\n",
    "    else:\n",
    "        l.append(address[str(i)])\n",
    "l\n",
    "# address['1']\n",
    "location = pd.Series(l)\n",
    "location\n"
   ]
  },
  {
   "cell_type": "code",
   "execution_count": 94,
   "id": "b2c6a64e",
   "metadata": {},
   "outputs": [
    {
     "data": {
      "text/html": [
       "<div>\n",
       "<style scoped>\n",
       "    .dataframe tbody tr th:only-of-type {\n",
       "        vertical-align: middle;\n",
       "    }\n",
       "\n",
       "    .dataframe tbody tr th {\n",
       "        vertical-align: top;\n",
       "    }\n",
       "\n",
       "    .dataframe thead th {\n",
       "        text-align: right;\n",
       "    }\n",
       "</style>\n",
       "<table border=\"1\" class=\"dataframe\">\n",
       "  <thead>\n",
       "    <tr style=\"text-align: right;\">\n",
       "      <th></th>\n",
       "      <th>acount_no</th>\n",
       "      <th>pin</th>\n",
       "      <th>ifsc</th>\n",
       "      <th>location</th>\n",
       "    </tr>\n",
       "  </thead>\n",
       "  <tbody>\n",
       "    <tr>\n",
       "      <th>0</th>\n",
       "      <td>497968551</td>\n",
       "      <td>3514</td>\n",
       "      <td>699184</td>\n",
       "      <td>0</td>\n",
       "    </tr>\n",
       "    <tr>\n",
       "      <th>1</th>\n",
       "      <td>0</td>\n",
       "      <td>3320</td>\n",
       "      <td>800575</td>\n",
       "      <td>east</td>\n",
       "    </tr>\n",
       "    <tr>\n",
       "      <th>2</th>\n",
       "      <td>400263525</td>\n",
       "      <td>6187</td>\n",
       "      <td>57170</td>\n",
       "      <td>0</td>\n",
       "    </tr>\n",
       "    <tr>\n",
       "      <th>3</th>\n",
       "      <td>0</td>\n",
       "      <td>0</td>\n",
       "      <td>152109</td>\n",
       "      <td>0</td>\n",
       "    </tr>\n",
       "    <tr>\n",
       "      <th>4</th>\n",
       "      <td>566350038</td>\n",
       "      <td>3523</td>\n",
       "      <td>0</td>\n",
       "      <td>0</td>\n",
       "    </tr>\n",
       "    <tr>\n",
       "      <th>...</th>\n",
       "      <td>...</td>\n",
       "      <td>...</td>\n",
       "      <td>...</td>\n",
       "      <td>...</td>\n",
       "    </tr>\n",
       "    <tr>\n",
       "      <th>95</th>\n",
       "      <td>458832009</td>\n",
       "      <td>0</td>\n",
       "      <td>0</td>\n",
       "      <td>east</td>\n",
       "    </tr>\n",
       "    <tr>\n",
       "      <th>96</th>\n",
       "      <td>518087966</td>\n",
       "      <td>0</td>\n",
       "      <td>637694</td>\n",
       "      <td>west</td>\n",
       "    </tr>\n",
       "    <tr>\n",
       "      <th>97</th>\n",
       "      <td>0</td>\n",
       "      <td>5753</td>\n",
       "      <td>0</td>\n",
       "      <td>east</td>\n",
       "    </tr>\n",
       "    <tr>\n",
       "      <th>98</th>\n",
       "      <td>381346123</td>\n",
       "      <td>0</td>\n",
       "      <td>0</td>\n",
       "      <td>east</td>\n",
       "    </tr>\n",
       "    <tr>\n",
       "      <th>99</th>\n",
       "      <td>0</td>\n",
       "      <td>0</td>\n",
       "      <td>499313</td>\n",
       "      <td>0</td>\n",
       "    </tr>\n",
       "  </tbody>\n",
       "</table>\n",
       "<p>100 rows × 4 columns</p>\n",
       "</div>"
      ],
      "text/plain": [
       "    acount_no   pin    ifsc location\n",
       "0   497968551  3514  699184        0\n",
       "1           0  3320  800575     east\n",
       "2   400263525  6187   57170        0\n",
       "3           0     0  152109        0\n",
       "4   566350038  3523       0        0\n",
       "..        ...   ...     ...      ...\n",
       "95  458832009     0       0     east\n",
       "96  518087966     0  637694     west\n",
       "97          0  5753       0     east\n",
       "98  381346123     0       0     east\n",
       "99          0     0  499313        0\n",
       "\n",
       "[100 rows x 4 columns]"
      ]
     },
     "execution_count": 94,
     "metadata": {},
     "output_type": "execute_result"
    }
   ],
   "source": [
    "data['location'] = location\n",
    "data.to_excel(\"\")\n",
    "data"
   ]
  }
 ],
 "metadata": {
  "kernelspec": {
   "display_name": "Python 3 (ipykernel)",
   "language": "python",
   "name": "python3"
  },
  "language_info": {
   "codemirror_mode": {
    "name": "ipython",
    "version": 3
   },
   "file_extension": ".py",
   "mimetype": "text/x-python",
   "name": "python",
   "nbconvert_exporter": "python",
   "pygments_lexer": "ipython3",
   "version": "3.8.10"
  }
 },
 "nbformat": 4,
 "nbformat_minor": 5
}
