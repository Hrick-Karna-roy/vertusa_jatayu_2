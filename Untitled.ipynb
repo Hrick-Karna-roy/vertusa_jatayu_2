{
 "cells": [
  {
   "cell_type": "code",
   "execution_count": 26,
   "id": "e11d78d6",
   "metadata": {},
   "outputs": [
    {
     "data": {
      "text/plain": [
       "array([497968551,         0, 400263525,         0, 566350038,         0,\n",
       "       206803972,         0, 648646614,         0, 809172683,         0,\n",
       "               0, 588379875,         0, 502031651,         0,         0,\n",
       "       537913794, 158303686, 600054827, 582001100,         0,         0,\n",
       "       403977398, 276109703, 770198276, 465784418,         0,         0,\n",
       "       884124893, 541474470, 570995746,         0,         0, 212639464,\n",
       "               0, 100429027, 485523611, 556107699,         0,         0,\n",
       "       700082184,         0,         0,         0, 743162242, 726491472,\n",
       "       685666364,         0, 493075021, 488784604, 700864705, 304076737,\n",
       "       240789310, 832299941, 814982722,         0, 365526082,   4482628,\n",
       "               0, 442583869, 636656387, 675493162, 736824569, 564169896,\n",
       "       610953971, 856962612,         0,         0, 541608236, 384254924,\n",
       "       254628861, 429442463,         0, 360032261,         0, 136477231,\n",
       "               0,         0,         0,         0,         0,         0,\n",
       "               0,         0,         0,         0, 423549918,         0,\n",
       "               0, 502602323, 699936363, 519930905, 472849573, 458832009,\n",
       "       518087966,         0, 381346123,         0])"
      ]
     },
     "execution_count": 26,
     "metadata": {},
     "output_type": "execute_result"
    }
   ],
   "source": [
    "import numpy as np\n",
    "import pandas as pd\n",
    "# import matplotlib as mpl\n",
    "# import seaborn as sbs\n",
    "\n",
    "y = np.random.randint(1,5,5)\n",
    "y\n",
    "coloumn = ['sl_no','acount_no','pin','ifsc','address','plot_no','pan_no','vter_no','school','college','stream','medical history','dob','profession','contact no','adiction']\n",
    "len(coloumn)\n",
    "sl_no = np.linspace(1,100,100,np.int64)\n",
    "acount_no = np.random.normal(500000000,200000000,100)\n",
    "acount_no = np.int64(acount_no)\n",
    "a = np.random.randint(1,100,55)\n",
    "a\n",
    "for i in a:\n",
    "    acount_no[i] = 000000000\n",
    "acount_no\n",
    "\n"
   ]
  },
  {
   "cell_type": "code",
   "execution_count": 25,
   "id": "4a389ee4",
   "metadata": {},
   "outputs": [
    {
     "data": {
      "text/plain": [
       "array([3514, 3320, 6187,    0, 3523,    0,    0,    0,    0, 6046, 3172,\n",
       "       1677,    0, 7404, 6783, 2810, 4726, 4598, 5059, 4031, 5850,    0,\n",
       "       5354, 2342, 7355,    0,    0, 8423,    0, 3904, 5023,    0,    0,\n",
       "          0, 4683,    0,    0,    0,    0, 5652,    0, 2363, 7373, 6242,\n",
       "          0,    0,    0, 2817, 4128, 4785,    0,    0,    0,    0, 3279,\n",
       "          0,    0, 2720, 2910, 4682,    0,    0, 4126, 7503, 4506, 6277,\n",
       "          0, 6652, 3983, 3421, 5378,    0, 2223, 5099, 5059,    0,    0,\n",
       "       3728, 4374, 5163,    0,    0,    0,    0, 2393,    0,    0, 7763,\n",
       "       4037, 6650,  374,    0, 3413, 2751,    0,    0,    0, 5753,    0,\n",
       "          0])"
      ]
     },
     "execution_count": 25,
     "metadata": {},
     "output_type": "execute_result"
    }
   ],
   "source": [
    "pin = np.random.normal(5000,2000,100)\n",
    "pin = np.int64(pin)\n",
    "b = np.random.randint(1,100,86)\n",
    "b\n",
    "for i in b:\n",
    "    pin[i] = 000000000\n",
    "pin"
   ]
  },
  {
   "cell_type": "code",
   "execution_count": 28,
   "id": "de700c00",
   "metadata": {},
   "outputs": [
    {
     "data": {
      "text/plain": [
       "array([699184, 800575,  57170, 152109,      0, 505488, 704495,      0,\n",
       "       517835,      0,      0, 267290,      0,  12073,      0, 595521,\n",
       "            0, 220011,      0,      0, 835818, 683841, 954882, 390494,\n",
       "       923027,      0,      0,      0,      0,      0, 338868, 113161,\n",
       "       363083, 220198,      0,      0, 341590,      0,      0,      0,\n",
       "            0,  71903,      0, 467967,      0, 739491, 570686,      0,\n",
       "            0,   1772, 387051, 519570,      0,      0, 776536, 250193,\n",
       "            0, 994205, 754416, 260539, 895802,      0,      0, 404927,\n",
       "       297174,      0,      0, 633150,      0,      0,      0, 685222,\n",
       "            0,      0, 260507,      0, 172389,      0, 730009,      0,\n",
       "            0,      0, 107192,      0,      0,      0, 358464,      0,\n",
       "            0, 826119,      0, 585902,      0,      0, 163947,      0,\n",
       "       637694,      0,      0, 499313])"
      ]
     },
     "execution_count": 28,
     "metadata": {},
     "output_type": "execute_result"
    }
   ],
   "source": [
    "ifsc = np.random.randint(000000,999999,100)\n",
    "ifsc\n",
    "c = np.random.randint(1,100,73)\n",
    "for i in c:\n",
    "    ifsc[i] = 000000\n",
    "ifsc"
   ]
  },
  {
   "cell_type": "code",
   "execution_count": 37,
   "id": "89d717cc",
   "metadata": {},
   "outputs": [],
   "source": [
    "acount_no = pd.Series(acount_no)\n",
    "pin = pd.Series(pin)\n",
    "frame = {'acount_no':acount_no,'pin':pin}\n",
    "data = pd.DataFrame(frame)\n",
    "data\n",
    "data.to_excel(\"sample_data.xlsx\")"
   ]
  }
 ],
 "metadata": {
  "kernelspec": {
   "display_name": "Python 3 (ipykernel)",
   "language": "python",
   "name": "python3"
  },
  "language_info": {
   "codemirror_mode": {
    "name": "ipython",
    "version": 3
   },
   "file_extension": ".py",
   "mimetype": "text/x-python",
   "name": "python",
   "nbconvert_exporter": "python",
   "pygments_lexer": "ipython3",
   "version": "3.8.10"
  }
 },
 "nbformat": 4,
 "nbformat_minor": 5
}
